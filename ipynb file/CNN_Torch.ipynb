{
  "nbformat": 4,
  "nbformat_minor": 0,
  "metadata": {
    "colab": {
      "provenance": [],
      "gpuType": "T4"
    },
    "kernelspec": {
      "name": "python3",
      "display_name": "Python 3"
    },
    "language_info": {
      "name": "python"
    },
    "accelerator": "GPU"
  },
  "cells": [
    {
      "cell_type": "code",
      "execution_count": null,
      "metadata": {
        "id": "fS3lVLg5eWNq"
      },
      "outputs": [],
      "source": [
        "!pip install torch"
      ]
    },
    {
      "cell_type": "code",
      "source": [
        "import torch\n",
        "import torch.nn as nn\n",
        "import torch.nn.functional as f\n",
        "from torch.utils.data import DataLoader\n",
        "from torchvision import datasets, transforms\n",
        "from torchvision.utils import make_grid\n",
        "\n",
        "import numpy as np\n",
        "import pandas as pd\n",
        "import matplotlib.pyplot as plt\n",
        "from sklearn.metrics import confusion_matrix\n",
        "%matplotlib inline"
      ],
      "metadata": {
        "id": "munrVkEMj0wm"
      },
      "execution_count": 1,
      "outputs": []
    },
    {
      "cell_type": "code",
      "source": [
        "# convert data into tensor of 4D (images, Heights, Weights, Color Channel)\n",
        "transform = transforms.ToTensor()"
      ],
      "metadata": {
        "id": "5rHDcIc6o0l6"
      },
      "execution_count": 17,
      "outputs": []
    },
    {
      "cell_type": "code",
      "source": [
        "# Train Data\n",
        "train_data = datasets.MNIST(\n",
        "    root= \"/cnn_data\",\n",
        "    download = True,\n",
        "    train = True,\n",
        "    transform= transform\n",
        ")"
      ],
      "metadata": {
        "id": "iG6NFWNsqGmI"
      },
      "execution_count": 18,
      "outputs": []
    },
    {
      "cell_type": "code",
      "source": [
        "# Test Data\n",
        "test_data = datasets.MNIST(\n",
        "    root= \"/cnn_data\",\n",
        "    download = True,\n",
        "    train = False,\n",
        "    transform= transform\n",
        ")"
      ],
      "metadata": {
        "id": "T3RJs5p9qhVM"
      },
      "execution_count": 19,
      "outputs": []
    },
    {
      "cell_type": "code",
      "source": [
        "print(train_data, test_data)"
      ],
      "metadata": {
        "colab": {
          "base_uri": "https://localhost:8080/"
        },
        "id": "ILXf0Bggq4qD",
        "outputId": "b02fd4cd-6f6a-4b5a-ee60-1bf3d44f6a15"
      },
      "execution_count": 20,
      "outputs": [
        {
          "output_type": "stream",
          "name": "stdout",
          "text": [
            "Dataset MNIST\n",
            "    Number of datapoints: 60000\n",
            "    Root location: /cnn_data\n",
            "    Split: Train\n",
            "    StandardTransform\n",
            "Transform: ToTensor() Dataset MNIST\n",
            "    Number of datapoints: 10000\n",
            "    Root location: /cnn_data\n",
            "    Split: Test\n",
            "    StandardTransform\n",
            "Transform: ToTensor()\n"
          ]
        }
      ]
    },
    {
      "cell_type": "code",
      "source": [
        "# Create a small batch size for images\n",
        "train_loader = DataLoader(train_data, batch_size = 10, shuffle = True)\n",
        "test_loader = DataLoader(test_data, batch_size = 10, shuffle = True)"
      ],
      "metadata": {
        "id": "vP2dLy0Ur6M0"
      },
      "execution_count": 21,
      "outputs": []
    },
    {
      "cell_type": "code",
      "source": [
        "# Defining Convolutional Model\n",
        "class CNNModel(nn.Module):\n",
        "  def __init__(self):\n",
        "    super().__init__()\n",
        "    self.conv1 = nn.Conv2d(1,6,3,1,)\n",
        "    self.conv2 = nn.Conv2d(6,16,3,1)\n",
        "    self.fc1 = nn.Linear(5*5*16, 120)\n",
        "    self.fc2 = nn.Linear(120, 84)\n",
        "    self.fc3 = nn.Linear(84, 10)\n",
        "\n",
        "  def forward(self,x):\n",
        "    X = f.relu(self.conv1(x))\n",
        "    X = f.max_pool2d(X,2,2)\n",
        "    X = f.relu(self.conv2(X))\n",
        "    X = f.max_pool2d(X,2,2)\n",
        "    X = f.relu(self.fc1(X.view(-1,5*5*16)))\n",
        "    x = f.relu(self.fc2(X))\n",
        "    X = self.fc3(x)\n",
        "\n",
        "    return f.log_softmax(X, dim = 1)"
      ],
      "metadata": {
        "id": "efxrCX4wrSS2"
      },
      "execution_count": 22,
      "outputs": []
    },
    {
      "cell_type": "code",
      "source": [
        "# Create an Instance of our model\n",
        "torch.manual_seed(41)\n",
        "model = CNNModel()\n",
        "print(model.parameters)"
      ],
      "metadata": {
        "colab": {
          "base_uri": "https://localhost:8080/"
        },
        "id": "9-FX0FjuwFrX",
        "outputId": "782e3ebc-d77c-4252-bd07-23f987cb0045"
      },
      "execution_count": 23,
      "outputs": [
        {
          "output_type": "stream",
          "name": "stdout",
          "text": [
            "<bound method Module.parameters of CNNModel(\n",
            "  (conv1): Conv2d(1, 6, kernel_size=(3, 3), stride=(1, 1))\n",
            "  (conv2): Conv2d(6, 16, kernel_size=(3, 3), stride=(1, 1))\n",
            "  (fc1): Linear(in_features=400, out_features=120, bias=True)\n",
            "  (fc2): Linear(in_features=120, out_features=84, bias=True)\n",
            "  (fc3): Linear(in_features=84, out_features=10, bias=True)\n",
            ")>\n"
          ]
        }
      ]
    },
    {
      "cell_type": "code",
      "source": [
        "print(model.eval())"
      ],
      "metadata": {
        "colab": {
          "base_uri": "https://localhost:8080/"
        },
        "id": "rburiPJswWrj",
        "outputId": "199e0227-d013-4b7a-e724-cdb20121db92"
      },
      "execution_count": 24,
      "outputs": [
        {
          "output_type": "stream",
          "name": "stdout",
          "text": [
            "CNNModel(\n",
            "  (conv1): Conv2d(1, 6, kernel_size=(3, 3), stride=(1, 1))\n",
            "  (conv2): Conv2d(6, 16, kernel_size=(3, 3), stride=(1, 1))\n",
            "  (fc1): Linear(in_features=400, out_features=120, bias=True)\n",
            "  (fc2): Linear(in_features=120, out_features=84, bias=True)\n",
            "  (fc3): Linear(in_features=84, out_features=10, bias=True)\n",
            ")\n"
          ]
        }
      ]
    },
    {
      "cell_type": "code",
      "source": [
        "# Loss Function\n",
        "criterion = nn.CrossEntropyLoss()\n",
        "optimizer = torch.optim.Adam(model.parameters(), lr = 0.001) # Smaller the learning rate, longer it takes to train a model"
      ],
      "metadata": {
        "id": "fa4nQR1YwhS7"
      },
      "execution_count": 25,
      "outputs": []
    },
    {
      "cell_type": "code",
      "source": [
        "import time\n",
        "start_time = time.time()\n",
        "\n",
        "# Creates to variables to track things\n",
        "epochs = 5\n",
        "train_loss = []\n",
        "test_loss = []\n",
        "train_correct = []\n",
        "test_correct = []\n",
        "\n",
        "for i in range(epochs):\n",
        "  trn_corr = 0\n",
        "  tst_corr = 0\n",
        "\n",
        "  for b, (X_train, y_train) in enumerate(train_loader):\n",
        "    b+=1 # Start our batches = 1\n",
        "    y_pred = model(X_train)  # Forward propagation\n",
        "    loss = criterion(y_pred, y_train)\n",
        "    predicted = torch.max(y_pred.data,1)[1] # Add up the number of correct predictions, Indexed off the first point.\n",
        "    batch_corr = (predicted == y_train).sum() # how many we got correct from this batch.\n",
        "    trn_corr += batch_corr\n",
        "\n",
        "    # update our parameters\n",
        "    optimizer.zero_grad()\n",
        "    loss.backward()\n",
        "    optimizer.step()\n",
        "\n",
        "    if b%600 == 0:\n",
        "      print(f'epoch: {i} batch: {b} loss: {loss.item()}')\n",
        "\n",
        "  train_loss.append(loss.detach().numpy())\n",
        "  train_correct.append(trn_corr)\n",
        "\n",
        "\n",
        "  # TEST\n",
        "  with torch.no_grad():\n",
        "    for(b, (X_test, y_test)) in enumerate(test_loader):\n",
        "      y_val = model(X_test)\n",
        "      predicted = torch.max(y_val.data,1)[1]\n",
        "      tst_corr += (predicted == y_test).sum()\n",
        "\n",
        "  loss = criterion(y_val, y_test)\n",
        "  test_loss.append(loss.detach().numpy())\n",
        "  test_correct.append(tst_corr)\n",
        "\n",
        "current_time = time.time()\n",
        "total_time = current_time - start_time\n",
        "print(f\"Training time : {total_time/60} minutes\")"
      ],
      "metadata": {
        "id": "54J-0DoZyi6R",
        "colab": {
          "base_uri": "https://localhost:8080/"
        },
        "outputId": "7b0a55b9-1443-4040-8e5f-b11f5869a9d7"
      },
      "execution_count": 26,
      "outputs": [
        {
          "output_type": "stream",
          "name": "stdout",
          "text": [
            "epoch: 0 batch: 600 loss: 0.1599934995174408\n",
            "epoch: 0 batch: 1200 loss: 0.18979528546333313\n",
            "epoch: 0 batch: 1800 loss: 0.5580862760543823\n",
            "epoch: 0 batch: 2400 loss: 0.2070152312517166\n",
            "epoch: 0 batch: 3000 loss: 0.006888664327561855\n",
            "epoch: 0 batch: 3600 loss: 0.33112621307373047\n",
            "epoch: 0 batch: 4200 loss: 0.004664934705942869\n",
            "epoch: 0 batch: 4800 loss: 0.0020317500457167625\n",
            "epoch: 0 batch: 5400 loss: 0.06558699160814285\n",
            "epoch: 0 batch: 6000 loss: 0.000513441045768559\n",
            "epoch: 1 batch: 600 loss: 0.022129502147436142\n",
            "epoch: 1 batch: 1200 loss: 0.00910872407257557\n",
            "epoch: 1 batch: 1800 loss: 0.0012459950521588326\n",
            "epoch: 1 batch: 2400 loss: 0.0027207969687879086\n",
            "epoch: 1 batch: 3000 loss: 9.058915020432323e-05\n",
            "epoch: 1 batch: 3600 loss: 0.006649290211498737\n",
            "epoch: 1 batch: 4200 loss: 0.0005154887912794948\n",
            "epoch: 1 batch: 4800 loss: 0.005008358974009752\n",
            "epoch: 1 batch: 5400 loss: 0.00044716932461597025\n",
            "epoch: 1 batch: 6000 loss: 0.000558710191398859\n",
            "epoch: 2 batch: 600 loss: 0.04929005354642868\n",
            "epoch: 2 batch: 1200 loss: 0.027332250028848648\n",
            "epoch: 2 batch: 1800 loss: 7.475576421711594e-05\n",
            "epoch: 2 batch: 2400 loss: 0.007267444394528866\n",
            "epoch: 2 batch: 3000 loss: 0.4793168008327484\n",
            "epoch: 2 batch: 3600 loss: 0.0002512676583137363\n",
            "epoch: 2 batch: 4200 loss: 0.0004740266012959182\n",
            "epoch: 2 batch: 4800 loss: 0.011526825837790966\n",
            "epoch: 2 batch: 5400 loss: 0.008075554855167866\n",
            "epoch: 2 batch: 6000 loss: 0.01775704137980938\n",
            "epoch: 3 batch: 600 loss: 0.005172505509108305\n",
            "epoch: 3 batch: 1200 loss: 0.010139134712517262\n",
            "epoch: 3 batch: 1800 loss: 0.10309509187936783\n",
            "epoch: 3 batch: 2400 loss: 0.00025871448451653123\n",
            "epoch: 3 batch: 3000 loss: 0.011431065388023853\n",
            "epoch: 3 batch: 3600 loss: 0.034604862332344055\n",
            "epoch: 3 batch: 4200 loss: 0.0008226260542869568\n",
            "epoch: 3 batch: 4800 loss: 0.005047043785452843\n",
            "epoch: 3 batch: 5400 loss: 0.031138276681303978\n",
            "epoch: 3 batch: 6000 loss: 0.001027269521728158\n",
            "epoch: 4 batch: 600 loss: 0.00033151183743029833\n",
            "epoch: 4 batch: 1200 loss: 0.005931447260081768\n",
            "epoch: 4 batch: 1800 loss: 0.0016772749368101358\n",
            "epoch: 4 batch: 2400 loss: 2.8835327611886896e-05\n",
            "epoch: 4 batch: 3000 loss: 0.0020712835248559713\n",
            "epoch: 4 batch: 3600 loss: 0.05023978278040886\n",
            "epoch: 4 batch: 4200 loss: 0.012466153129935265\n",
            "epoch: 4 batch: 4800 loss: 0.0003757537924684584\n",
            "epoch: 4 batch: 5400 loss: 0.0010961547959595919\n",
            "epoch: 4 batch: 6000 loss: 0.055131275206804276\n",
            "Training time : 3.480874462922414 minutes\n"
          ]
        }
      ]
    },
    {
      "cell_type": "code",
      "source": [
        "train_correct"
      ],
      "metadata": {
        "colab": {
          "base_uri": "https://localhost:8080/"
        },
        "id": "MCL_6nuAVBfH",
        "outputId": "dac47234-651e-465d-e2b3-973335ef6f13"
      },
      "execution_count": 27,
      "outputs": [
        {
          "output_type": "execute_result",
          "data": {
            "text/plain": [
              "[tensor(56256), tensor(58847), tensor(59175), tensor(59371), tensor(59455)]"
            ]
          },
          "metadata": {},
          "execution_count": 27
        }
      ]
    },
    {
      "cell_type": "code",
      "source": [
        "# Graph the loss at epoch\n",
        "plt.plot(train_loss, label = \"Train Loss\")\n",
        "plt.plot(test_loss, label = \"Test Loss\")\n",
        "plt.title(\"Loss at Epoch\")\n",
        "plt.legend()"
      ],
      "metadata": {
        "id": "fDawmMtYD4be",
        "colab": {
          "base_uri": "https://localhost:8080/",
          "height": 469
        },
        "outputId": "c387bc4c-c603-4738-bf80-18e2eee909bd"
      },
      "execution_count": 28,
      "outputs": [
        {
          "output_type": "execute_result",
          "data": {
            "text/plain": [
              "<matplotlib.legend.Legend at 0x7e4af49df3d0>"
            ]
          },
          "metadata": {},
          "execution_count": 28
        },
        {
          "output_type": "display_data",
          "data": {
            "text/plain": [
              "<Figure size 640x480 with 1 Axes>"
            ],
            "image/png": "[encoded data removed]"
          },
          "metadata": {}
        }
      ]
    },
    {
      "cell_type": "code",
      "source": [
        "# Graph the accuracy at the end of each epoch\n",
        "plt.plot([t/600 for t in train_correct], label = \"Training accuracy\")\n",
        "plt.plot([t/100 for t in test_correct], label = \"Testing  accuracy\")\n",
        "plt.title(\"Accuracy at Epoch\")\n",
        "plt.legend()\n",
        "plt.show()"
      ],
      "metadata": {
        "colab": {
          "base_uri": "https://localhost:8080/",
          "height": 452
        },
        "id": "SFp41SWHmS6w",
        "outputId": "5bac388a-24c7-4b63-8ae3-6d20928da9bc"
      },
      "execution_count": 32,
      "outputs": [
        {
          "output_type": "display_data",
          "data": {
            "text/plain": [
              "<Figure size 640x480 with 1 Axes>"
            ],
            "image/png": "[encoded data removed]"
          },
          "metadata": {}
        }
      ]
    },
    {
      "cell_type": "code",
      "source": [
        "# accuracy for this model\n",
        "print(f'Test accuracy: {test_correct[-1].item()*100/10000:.3f}%')"
      ],
      "metadata": {
        "colab": {
          "base_uri": "https://localhost:8080/"
        },
        "id": "45eVmMszrZyX",
        "outputId": "3970e4ec-f4ab-4fd8-860b-4e4033833cbd"
      },
      "execution_count": 36,
      "outputs": [
        {
          "output_type": "stream",
          "name": "stdout",
          "text": [
            "Test accuracy: 98.900%\n"
          ]
        }
      ]
    },
    {
      "cell_type": "code",
      "source": [
        "plt.imshow(test_data[4143][0][0])"
      ],
      "metadata": {
        "colab": {
          "base_uri": "https://localhost:8080/",
          "height": 447
        },
        "id": "VY8h-GglvIN5",
        "outputId": "266b4739-8796-491c-9f17-8ce80d34ba25"
      },
      "execution_count": 50,
      "outputs": [
        {
          "output_type": "execute_result",
          "data": {
            "text/plain": [
              "<matplotlib.image.AxesImage at 0x7e4af37d86a0>"
            ]
          },
          "metadata": {},
          "execution_count": 50
        },
        {
          "output_type": "display_data",
          "data": {
            "text/plain": [
              "<Figure size 640x480 with 1 Axes>"
            ],
            "image/png": "[encoded data removed]"
          },
          "metadata": {}
        }
      ]
    },
    {
      "cell_type": "code",
      "source": [
        "model.eval()\n",
        "with torch.no_grad():\n",
        "  new_prediction = model(test_data[4143][0][0].view(1,1,28,28))"
      ],
      "metadata": {
        "id": "33RLRE77vmIM"
      },
      "execution_count": 57,
      "outputs": []
    },
    {
      "cell_type": "code",
      "source": [
        "print(new_prediction.argmax())"
      ],
      "metadata": {
        "colab": {
          "base_uri": "https://localhost:8080/"
        },
        "id": "o6wCJUWVv9Bp",
        "outputId": "868faca1-4b9c-4308-90ab-0208c9520027"
      },
      "execution_count": 58,
      "outputs": [
        {
          "output_type": "stream",
          "name": "stdout",
          "text": [
            "tensor(9)\n"
          ]
        }
      ]
    },
    {
      "cell_type": "code",
      "source": [
        "# Saving the model as cnn_model.pt for MNIST\n",
        "torch.save(model.state_dict(), \"cnn_model.pt\")"
      ],
      "metadata": {
        "id": "MFfpiv7_sdGU"
      },
      "execution_count": 59,
      "outputs": []
    },
    {
      "cell_type": "code",
      "source": [
        "# Load the model\n",
        "model1 = CNNModel()\n",
        "model1.load_state_dict(torch.load('cnn_model.pt'))  # for using weight s"
      ],
      "metadata": {
        "colab": {
          "base_uri": "https://localhost:8080/"
        },
        "id": "f6AYhE91v8HL",
        "outputId": "a50187fe-3551-414f-8ab8-bcbee24a5c97"
      },
      "execution_count": 61,
      "outputs": [
        {
          "output_type": "execute_result",
          "data": {
            "text/plain": [
              "<All keys matched successfully>"
            ]
          },
          "metadata": {},
          "execution_count": 61
        }
      ]
    },
    {
      "cell_type": "code",
      "source": [
        "model2 = torch.load(\"cnn_model.pt\")"
      ],
      "metadata": {
        "id": "S3dqb9c8wto1"
      },
      "execution_count": 62,
      "outputs": []
    },
    {
      "cell_type": "code",
      "source": [],
      "metadata": {
        "id": "mKNQsAd6xHqc"
      },
      "execution_count": null,
      "outputs": []
    }
  ]
}
{
  "nbformat": 4,
  "nbformat_minor": 0,
  "metadata": {
    "colab": {
      "provenance": []
    },
    "kernelspec": {
      "name": "python3",
      "display_name": "Python 3"
    },
    "language_info": {
      "name": "python"
    }
  },
  "cells": [
    {
      "cell_type": "code",
      "execution_count": null,
      "metadata": {
        "colab": {
          "base_uri": "https://localhost:8080/"
        },
        "id": "K1FQGosLR56t",
        "outputId": "f68db571-579f-456e-bc77-125dd22bd71a"
      },
      "outputs": [
        {
          "output_type": "stream",
          "name": "stdout",
          "text": [
            "Requirement already satisfied: torch in /usr/local/lib/python3.10/dist-packages (2.3.1+cu121)\n",
            "Requirement already satisfied: filelock in /usr/local/lib/python3.10/dist-packages (from torch) (3.15.4)\n",
            "Requirement already satisfied: typing-extensions>=4.8.0 in /usr/local/lib/python3.10/dist-packages (from torch) (4.12.2)\n",
            "Requirement already satisfied: sympy in /usr/local/lib/python3.10/dist-packages (from torch) (1.13.1)\n",
            "Requirement already satisfied: networkx in /usr/local/lib/python3.10/dist-packages (from torch) (3.3)\n",
            "Requirement already satisfied: jinja2 in /usr/local/lib/python3.10/dist-packages (from torch) (3.1.4)\n",
            "Requirement already satisfied: fsspec in /usr/local/lib/python3.10/dist-packages (from torch) (2024.6.1)\n",
            "Collecting nvidia-cuda-nvrtc-cu12==12.1.105 (from torch)\n",
            "  Using cached nvidia_cuda_nvrtc_cu12-12.1.105-py3-none-manylinux1_x86_64.whl.metadata (1.5 kB)\n",
            "Collecting nvidia-cuda-runtime-cu12==12.1.105 (from torch)\n",
            "  Using cached nvidia_cuda_runtime_cu12-12.1.105-py3-none-manylinux1_x86_64.whl.metadata (1.5 kB)\n",
            "Collecting nvidia-cuda-cupti-cu12==12.1.105 (from torch)\n",
            "  Using cached nvidia_cuda_cupti_cu12-12.1.105-py3-none-manylinux1_x86_64.whl.metadata (1.6 kB)\n",
            "Collecting nvidia-cudnn-cu12==8.9.2.26 (from torch)\n",
            "  Using cached nvidia_cudnn_cu12-8.9.2.26-py3-none-manylinux1_x86_64.whl.metadata (1.6 kB)\n",
            "Collecting nvidia-cublas-cu12==12.1.3.1 (from torch)\n",
            "  Using cached nvidia_cublas_cu12-12.1.3.1-py3-none-manylinux1_x86_64.whl.metadata (1.5 kB)\n",
            "Collecting nvidia-cufft-cu12==11.0.2.54 (from torch)\n",
            "  Using cached nvidia_cufft_cu12-11.0.2.54-py3-none-manylinux1_x86_64.whl.metadata (1.5 kB)\n",
            "Collecting nvidia-curand-cu12==10.3.2.106 (from torch)\n",
            "  Using cached nvidia_curand_cu12-10.3.2.106-py3-none-manylinux1_x86_64.whl.metadata (1.5 kB)\n",
            "Collecting nvidia-cusolver-cu12==11.4.5.107 (from torch)\n",
            "  Using cached nvidia_cusolver_cu12-11.4.5.107-py3-none-manylinux1_x86_64.whl.metadata (1.6 kB)\n",
            "Collecting nvidia-cusparse-cu12==12.1.0.106 (from torch)\n",
            "  Using cached nvidia_cusparse_cu12-12.1.0.106-py3-none-manylinux1_x86_64.whl.metadata (1.6 kB)\n",
            "Collecting nvidia-nccl-cu12==2.20.5 (from torch)\n",
            "  Using cached nvidia_nccl_cu12-2.20.5-py3-none-manylinux2014_x86_64.whl.metadata (1.8 kB)\n",
            "Collecting nvidia-nvtx-cu12==12.1.105 (from torch)\n",
            "  Using cached nvidia_nvtx_cu12-12.1.105-py3-none-manylinux1_x86_64.whl.metadata (1.7 kB)\n",
            "Requirement already satisfied: triton==2.3.1 in /usr/local/lib/python3.10/dist-packages (from torch) (2.3.1)\n",
            "Collecting nvidia-nvjitlink-cu12 (from nvidia-cusolver-cu12==11.4.5.107->torch)\n",
            "  Using cached nvidia_nvjitlink_cu12-12.6.20-py3-none-manylinux2014_x86_64.whl.metadata (1.5 kB)\n",
            "Requirement already satisfied: MarkupSafe>=2.0 in /usr/local/lib/python3.10/dist-packages (from jinja2->torch) (2.1.5)\n",
            "Requirement already satisfied: mpmath<1.4,>=1.1.0 in /usr/local/lib/python3.10/dist-packages (from sympy->torch) (1.3.0)\n",
            "Using cached nvidia_cublas_cu12-12.1.3.1-py3-none-manylinux1_x86_64.whl (410.6 MB)\n",
            "Using cached nvidia_cuda_cupti_cu12-12.1.105-py3-none-manylinux1_x86_64.whl (14.1 MB)\n",
            "Using cached nvidia_cuda_nvrtc_cu12-12.1.105-py3-none-manylinux1_x86_64.whl (23.7 MB)\n",
            "Using cached nvidia_cuda_runtime_cu12-12.1.105-py3-none-manylinux1_x86_64.whl (823 kB)\n",
            "Using cached nvidia_cudnn_cu12-8.9.2.26-py3-none-manylinux1_x86_64.whl (731.7 MB)\n",
            "Using cached nvidia_cufft_cu12-11.0.2.54-py3-none-manylinux1_x86_64.whl (121.6 MB)\n",
            "Using cached nvidia_curand_cu12-10.3.2.106-py3-none-manylinux1_x86_64.whl (56.5 MB)\n",
            "Using cached nvidia_cusolver_cu12-11.4.5.107-py3-none-manylinux1_x86_64.whl (124.2 MB)\n",
            "Using cached nvidia_cusparse_cu12-12.1.0.106-py3-none-manylinux1_x86_64.whl (196.0 MB)\n",
            "Using cached nvidia_nccl_cu12-2.20.5-py3-none-manylinux2014_x86_64.whl (176.2 MB)\n",
            "Using cached nvidia_nvtx_cu12-12.1.105-py3-none-manylinux1_x86_64.whl (99 kB)\n",
            "Using cached nvidia_nvjitlink_cu12-12.6.20-py3-none-manylinux2014_x86_64.whl (19.7 MB)\n",
            "Installing collected packages: nvidia-nvtx-cu12, nvidia-nvjitlink-cu12, nvidia-nccl-cu12, nvidia-curand-cu12, nvidia-cufft-cu12, nvidia-cuda-runtime-cu12, nvidia-cuda-nvrtc-cu12, nvidia-cuda-cupti-cu12, nvidia-cublas-cu12, nvidia-cusparse-cu12, nvidia-cudnn-cu12, nvidia-cusolver-cu12\n",
            "Successfully installed nvidia-cublas-cu12-12.1.3.1 nvidia-cuda-cupti-cu12-12.1.105 nvidia-cuda-nvrtc-cu12-12.1.105 nvidia-cuda-runtime-cu12-12.1.105 nvidia-cudnn-cu12-8.9.2.26 nvidia-cufft-cu12-11.0.2.54 nvidia-curand-cu12-10.3.2.106 nvidia-cusolver-cu12-11.4.5.107 nvidia-cusparse-cu12-12.1.0.106 nvidia-nccl-cu12-2.20.5 nvidia-nvjitlink-cu12-12.6.20 nvidia-nvtx-cu12-12.1.105\n"
          ]
        }
      ],
      "source": [
        "!pip install torch"
      ]
    },
    {
      "cell_type": "code",
      "source": [
        "import numpy as np\n",
        "import torch"
      ],
      "metadata": {
        "id": "7gvDvPM4SB38"
      },
      "execution_count": null,
      "outputs": []
    },
    {
      "cell_type": "markdown",
      "source": [
        "#### *Defining Activation function*"
      ],
      "metadata": {
        "id": "Ea01C7Rdalof"
      }
    },
    {
      "cell_type": "code",
      "source": [
        "def sigmoid_scaler(x):\n",
        "  return 1/(1+np.exp(-x))\n",
        "sigmoid  = np.vectorize(sigmoid_scaler)    # np.vectorize() --->  to convert matrix into array\n",
        "\n",
        "def softmax(x):\n",
        "  return np.exp(x)/np.exp(x).sum()\n",
        "\n",
        "def log_loss(y,y_hat):\n",
        "  return -np.sum(y*np.log(y_hat) + (1-y)*np.log(1-y_hat))\n",
        "\n",
        "def l2_norm(y,y_hat):\n",
        "  return np.sum((y-y_hat)**2)"
      ],
      "metadata": {
        "id": "zUlo34gHaTxD"
      },
      "execution_count": null,
      "outputs": []
    },
    {
      "cell_type": "markdown",
      "source": [
        "### Softmax Function\n",
        "$$\\frac{e^{x_1}}{e^{x_1}+e^{x_2}+...+e^{x_3}}$$\n",
        "### Sigmoid Function\n",
        "$$\\frac{1}{1+e^{-x}}$$\n"
      ],
      "metadata": {
        "id": "VGcnegpAY5ho"
      }
    },
    {
      "cell_type": "markdown",
      "source": [
        "#### *Feed-forword input layer*"
      ],
      "metadata": {
        "id": "eUfCKsyfZ0wi"
      }
    },
    {
      "cell_type": "code",
      "source": [
        "weight1 = np.array([[.1,.3,.8,-.4],[-.3,-.2,.5,.5],[-.3,0,.5,.4],[.2,.5,-.9,.7]])\n",
        "X = np.array([2,5,3,3])\n",
        "bias1 = np.zeros(4)\n",
        "a1 = np.matmul(weight1,X) + bias1\n",
        "h1 = sigmoid(a1)\n",
        "print(h1.round(2))"
      ],
      "metadata": {
        "colab": {
          "base_uri": "https://localhost:8080/"
        },
        "id": "Z5Ah_MXVSD8L",
        "outputId": "52af0817-1db8-4aab-9207-d03bcf7fd4b8"
      },
      "execution_count": null,
      "outputs": [
        {
          "output_type": "stream",
          "name": "stdout",
          "text": [
            "[0.95 0.8  0.89 0.91]\n"
          ]
        }
      ]
    },
    {
      "cell_type": "markdown",
      "source": [
        "#### *Feed-forword hidden layer*"
      ],
      "metadata": {
        "id": "MGkJtmVSaEL8"
      }
    },
    {
      "cell_type": "code",
      "source": [
        "weight2 = np.array([[.5,.8,.2,.4],[.5,.2,.3,-.5]])\n",
        "bias2 = np.zeros(2)\n",
        "a2 =  np.matmul(weight2,h1) + bias2\n",
        "h2 = softmax(a2)\n",
        "print(h2.round(2))"
      ],
      "metadata": {
        "colab": {
          "base_uri": "https://localhost:8080/"
        },
        "id": "qx_kmMUoSlR5",
        "outputId": "ef4f6e2c-edf4-4776-d1d1-3eb4fff700c0"
      },
      "execution_count": null,
      "outputs": [
        {
          "output_type": "stream",
          "name": "stdout",
          "text": [
            "[0.77 0.23]\n"
          ]
        }
      ]
    },
    {
      "cell_type": "markdown",
      "source": [
        "#### *Calculating Loss using LogLoss Function"
      ],
      "metadata": {
        "id": "Xk7HGHXFaLsv"
      }
    },
    {
      "cell_type": "code",
      "source": [
        "y = np.array([1,0])\n",
        "loss_logloss = log_loss(y,h2)\n",
        "loss_l2norm = l2_norm(y,h2)\n",
        "print(\"Log Loss \",loss_logloss.round(2))\n",
        "print(\"L2 norm  \",loss_l2norm.round(2))"
      ],
      "metadata": {
        "colab": {
          "base_uri": "https://localhost:8080/"
        },
        "id": "H9aNs88zUwKR",
        "outputId": "deedbc31-c65b-4bfe-daca-e15fabd227b1"
      },
      "execution_count": null,
      "outputs": [
        {
          "output_type": "stream",
          "name": "stdout",
          "text": [
            "Log Loss  0.52\n",
            "L2 norm   0.11\n"
          ]
        }
      ]
    },
    {
      "cell_type": "code",
      "source": [
        "# #### *Backpropogation for Hidden layer*\n",
        "d_l2norm = 2*(h2-y)\n",
        "d_softmax = np.diag(h2) - np.outer(h2,h2)\n",
        "d_a2 = np.matmul(d_softmax,d_l2norm)\n",
        "d_w2 = np.outer(d_a2,h1)\n",
        "d_b2 = d_a2\n",
        "d_h1 = np.matmul(weight2.T,d_a2)\n",
        "\n",
        "# #### *Backpropogation for Input layer*\n",
        "d_sigmoid = h1*(1-h1)\n",
        "d_a1 = d_h1*d_sigmoid\n",
        "d_w1 = np.outer(d_a1,X)\n",
        "d_b1 = d_a1\n",
        "\n",
        "# #### *Updating Weights and Biases*\n",
        "learning_rate = 0.1\n",
        "weight1 = weight1 - learning_rate*d_w1\n",
        "weight2 = weight2 - learning_rate*d_w2\n",
        "bias1 = bias1 - learning_rate*d_b1\n",
        "bias2 = bias2 - learning_rate*d_b2\n",
        "\n",
        "print(\"Updated Weights for Input Layer:\\n\", weight1.round(2))\n",
        "print(\"Updated Weights for Hidden Layer:\\n\", weight2.round(2))\n",
        "print(\"Updated Biases for Input Layer:\\n\", bias1.round(2))\n",
        "print(\"Updated Biases for Hidden Layer:\\n\", bias2.round(2))\n"
      ],
      "metadata": {
        "colab": {
          "base_uri": "https://localhost:8080/"
        },
        "id": "Pe0urjU-jiPX",
        "outputId": "36f8f036-b713-4ac7-b046-2dcd6140f840"
      },
      "execution_count": null,
      "outputs": [
        {
          "output_type": "stream",
          "name": "stdout",
          "text": [
            "Updated Weights for Input Layer:\n",
            " [[ 0.1   0.3   0.8  -0.4 ]\n",
            " [-0.3  -0.19  0.5   0.5 ]\n",
            " [-0.3  -0.    0.5   0.4 ]\n",
            " [ 0.2   0.51 -0.9   0.7 ]]\n",
            "Updated Weights for Hidden Layer:\n",
            " [[ 0.52  0.81  0.21  0.41]\n",
            " [ 0.48  0.19  0.29 -0.51]]\n",
            "Updated Biases for Input Layer:\n",
            " [ 0.  0. -0.  0.]\n",
            "Updated Biases for Hidden Layer:\n",
            " [ 0.02 -0.02]\n"
          ]
        }
      ]
    },
    {
      "cell_type": "code",
      "source": [
        "(np.exp(-10)/(np.exp(-10)+1)**2)*2"
      ],
      "metadata": {
        "colab": {
          "base_uri": "https://localhost:8080/"
        },
        "id": "wtNLqZsVYhLt",
        "outputId": "c8a41d68-ac29-40cb-b47a-9193dea2bbb7"
      },
      "execution_count": null,
      "outputs": [
        {
          "output_type": "execute_result",
          "data": {
            "text/plain": [
              "9.079161547190333e-05"
            ]
          },
          "metadata": {},
          "execution_count": 29
        }
      ]
    },
    {
      "cell_type": "code",
      "source": [
        "np.outer(h2,h2)"
      ],
      "metadata": {
        "colab": {
          "base_uri": "https://localhost:8080/"
        },
        "id": "VEXXS7G2kE2t",
        "outputId": "f9d3eee3-01ea-4935-8b80-e2ab7c1ce45c"
      },
      "execution_count": null,
      "outputs": [
        {
          "output_type": "execute_result",
          "data": {
            "text/plain": [
              "array([[0.59341754, 0.17691845],\n",
              "       [0.17691845, 0.05274556]])"
            ]
          },
          "metadata": {},
          "execution_count": 67
        }
      ]
    },
    {
      "cell_type": "code",
      "source": [],
      "metadata": {
        "id": "KK2bb51JkGOH"
      },
      "execution_count": null,
      "outputs": []
    }
  ]
}
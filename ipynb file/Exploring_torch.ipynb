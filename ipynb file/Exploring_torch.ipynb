{
  "nbformat": 4,
  "nbformat_minor": 0,
  "metadata": {
    "colab": {
      "provenance": [],
      "gpuType": "T4"
    },
    "kernelspec": {
      "name": "python3",
      "display_name": "Python 3"
    },
    "language_info": {
      "name": "python"
    },
    "accelerator": "GPU"
  },
  "cells": [
    {
      "cell_type": "code",
      "source": [
        "!pip install torch scikit-learn"
      ],
      "metadata": {
        "colab": {
          "base_uri": "https://localhost:8080/"
        },
        "id": "w5--iiaeSHGL",
        "outputId": "e15199cf-3023-4a74-8a43-b41cc1d9d63b"
      },
      "execution_count": null,
      "outputs": [
        {
          "output_type": "stream",
          "name": "stdout",
          "text": [
            "Requirement already satisfied: torch in /usr/local/lib/python3.10/dist-packages (2.3.1+cu121)\n",
            "Requirement already satisfied: scikit-learn in /usr/local/lib/python3.10/dist-packages (1.3.2)\n",
            "Requirement already satisfied: filelock in /usr/local/lib/python3.10/dist-packages (from torch) (3.15.4)\n",
            "Requirement already satisfied: typing-extensions>=4.8.0 in /usr/local/lib/python3.10/dist-packages (from torch) (4.12.2)\n",
            "Requirement already satisfied: sympy in /usr/local/lib/python3.10/dist-packages (from torch) (1.13.1)\n",
            "Requirement already satisfied: networkx in /usr/local/lib/python3.10/dist-packages (from torch) (3.3)\n",
            "Requirement already satisfied: jinja2 in /usr/local/lib/python3.10/dist-packages (from torch) (3.1.4)\n",
            "Requirement already satisfied: fsspec in /usr/local/lib/python3.10/dist-packages (from torch) (2024.6.1)\n",
            "Collecting nvidia-cuda-nvrtc-cu12==12.1.105 (from torch)\n",
            "  Using cached nvidia_cuda_nvrtc_cu12-12.1.105-py3-none-manylinux1_x86_64.whl.metadata (1.5 kB)\n",
            "Collecting nvidia-cuda-runtime-cu12==12.1.105 (from torch)\n",
            "  Using cached nvidia_cuda_runtime_cu12-12.1.105-py3-none-manylinux1_x86_64.whl.metadata (1.5 kB)\n",
            "Collecting nvidia-cuda-cupti-cu12==12.1.105 (from torch)\n",
            "  Using cached nvidia_cuda_cupti_cu12-12.1.105-py3-none-manylinux1_x86_64.whl.metadata (1.6 kB)\n",
            "Collecting nvidia-cudnn-cu12==8.9.2.26 (from torch)\n",
            "  Using cached nvidia_cudnn_cu12-8.9.2.26-py3-none-manylinux1_x86_64.whl.metadata (1.6 kB)\n",
            "Collecting nvidia-cublas-cu12==12.1.3.1 (from torch)\n",
            "  Using cached nvidia_cublas_cu12-12.1.3.1-py3-none-manylinux1_x86_64.whl.metadata (1.5 kB)\n",
            "Collecting nvidia-cufft-cu12==11.0.2.54 (from torch)\n",
            "  Using cached nvidia_cufft_cu12-11.0.2.54-py3-none-manylinux1_x86_64.whl.metadata (1.5 kB)\n",
            "Collecting nvidia-curand-cu12==10.3.2.106 (from torch)\n",
            "  Using cached nvidia_curand_cu12-10.3.2.106-py3-none-manylinux1_x86_64.whl.metadata (1.5 kB)\n",
            "Collecting nvidia-cusolver-cu12==11.4.5.107 (from torch)\n",
            "  Using cached nvidia_cusolver_cu12-11.4.5.107-py3-none-manylinux1_x86_64.whl.metadata (1.6 kB)\n",
            "Collecting nvidia-cusparse-cu12==12.1.0.106 (from torch)\n",
            "  Using cached nvidia_cusparse_cu12-12.1.0.106-py3-none-manylinux1_x86_64.whl.metadata (1.6 kB)\n",
            "Collecting nvidia-nccl-cu12==2.20.5 (from torch)\n",
            "  Using cached nvidia_nccl_cu12-2.20.5-py3-none-manylinux2014_x86_64.whl.metadata (1.8 kB)\n",
            "Collecting nvidia-nvtx-cu12==12.1.105 (from torch)\n",
            "  Using cached nvidia_nvtx_cu12-12.1.105-py3-none-manylinux1_x86_64.whl.metadata (1.7 kB)\n",
            "Requirement already satisfied: triton==2.3.1 in /usr/local/lib/python3.10/dist-packages (from torch) (2.3.1)\n",
            "Collecting nvidia-nvjitlink-cu12 (from nvidia-cusolver-cu12==11.4.5.107->torch)\n",
            "  Using cached nvidia_nvjitlink_cu12-12.6.20-py3-none-manylinux2014_x86_64.whl.metadata (1.5 kB)\n",
            "Requirement already satisfied: numpy<2.0,>=1.17.3 in /usr/local/lib/python3.10/dist-packages (from scikit-learn) (1.26.4)\n",
            "Requirement already satisfied: scipy>=1.5.0 in /usr/local/lib/python3.10/dist-packages (from scikit-learn) (1.13.1)\n",
            "Requirement already satisfied: joblib>=1.1.1 in /usr/local/lib/python3.10/dist-packages (from scikit-learn) (1.4.2)\n",
            "Requirement already satisfied: threadpoolctl>=2.0.0 in /usr/local/lib/python3.10/dist-packages (from scikit-learn) (3.5.0)\n",
            "Requirement already satisfied: MarkupSafe>=2.0 in /usr/local/lib/python3.10/dist-packages (from jinja2->torch) (2.1.5)\n",
            "Requirement already satisfied: mpmath<1.4,>=1.1.0 in /usr/local/lib/python3.10/dist-packages (from sympy->torch) (1.3.0)\n",
            "Using cached nvidia_cublas_cu12-12.1.3.1-py3-none-manylinux1_x86_64.whl (410.6 MB)\n",
            "Using cached nvidia_cuda_cupti_cu12-12.1.105-py3-none-manylinux1_x86_64.whl (14.1 MB)\n",
            "Using cached nvidia_cuda_nvrtc_cu12-12.1.105-py3-none-manylinux1_x86_64.whl (23.7 MB)\n",
            "Using cached nvidia_cuda_runtime_cu12-12.1.105-py3-none-manylinux1_x86_64.whl (823 kB)\n",
            "Using cached nvidia_cudnn_cu12-8.9.2.26-py3-none-manylinux1_x86_64.whl (731.7 MB)\n",
            "Using cached nvidia_cufft_cu12-11.0.2.54-py3-none-manylinux1_x86_64.whl (121.6 MB)\n",
            "Using cached nvidia_curand_cu12-10.3.2.106-py3-none-manylinux1_x86_64.whl (56.5 MB)\n",
            "Using cached nvidia_cusolver_cu12-11.4.5.107-py3-none-manylinux1_x86_64.whl (124.2 MB)\n",
            "Using cached nvidia_cusparse_cu12-12.1.0.106-py3-none-manylinux1_x86_64.whl (196.0 MB)\n",
            "Using cached nvidia_nccl_cu12-2.20.5-py3-none-manylinux2014_x86_64.whl (176.2 MB)\n",
            "Using cached nvidia_nvtx_cu12-12.1.105-py3-none-manylinux1_x86_64.whl (99 kB)\n",
            "Using cached nvidia_nvjitlink_cu12-12.6.20-py3-none-manylinux2014_x86_64.whl (19.7 MB)\n",
            "Installing collected packages: nvidia-nvtx-cu12, nvidia-nvjitlink-cu12, nvidia-nccl-cu12, nvidia-curand-cu12, nvidia-cufft-cu12, nvidia-cuda-runtime-cu12, nvidia-cuda-nvrtc-cu12, nvidia-cuda-cupti-cu12, nvidia-cublas-cu12, nvidia-cusparse-cu12, nvidia-cudnn-cu12, nvidia-cusolver-cu12\n",
            "Successfully installed nvidia-cublas-cu12-12.1.3.1 nvidia-cuda-cupti-cu12-12.1.105 nvidia-cuda-nvrtc-cu12-12.1.105 nvidia-cuda-runtime-cu12-12.1.105 nvidia-cudnn-cu12-8.9.2.26 nvidia-cufft-cu12-11.0.2.54 nvidia-curand-cu12-10.3.2.106 nvidia-cusolver-cu12-11.4.5.107 nvidia-cusparse-cu12-12.1.0.106 nvidia-nccl-cu12-2.20.5 nvidia-nvjitlink-cu12-12.6.20 nvidia-nvtx-cu12-12.1.105\n"
          ]
        }
      ]
    },
    {
      "cell_type": "code",
      "execution_count": null,
      "metadata": {
        "id": "z_JLxooKM1bo"
      },
      "outputs": [],
      "source": [
        "import numpy as np\n",
        "import math\n",
        "import matplotlib.pyplot as plt\n",
        "import matplotlib.colors\n",
        "import pandas as pd\n",
        "from sklearn.model_selection import train_test_split\n",
        "from sklearn.metrics import accuracy_score, mean_squared_error\n",
        "from sklearn.preprocessing import OneHotEncoder\n",
        "import seaborn as snb\n",
        "from tqdm import tqdm_notebook\n",
        "import time\n",
        "from IPython.display import HTML\n",
        "from sklearn.datasets import make_blobs\n",
        "import torch"
      ]
    },
    {
      "cell_type": "code",
      "source": [
        "torch.manual_seed(0)"
      ],
      "metadata": {
        "colab": {
          "base_uri": "https://localhost:8080/"
        },
        "id": "O3NnUcfiSMyL",
        "outputId": "2e258d98-649d-4791-cfd5-bd8974faf930"
      },
      "execution_count": null,
      "outputs": [
        {
          "output_type": "execute_result",
          "data": {
            "text/plain": [
              "<torch._C.Generator at 0x7d89d6d83210>"
            ]
          },
          "metadata": {},
          "execution_count": 3
        }
      ]
    },
    {
      "cell_type": "code",
      "source": [
        "my_camp = matplotlib.colors.LinearSegmentedColormap.from_list(\"\",['red','green'])"
      ],
      "metadata": {
        "id": "bT28d3uCSby8"
      },
      "execution_count": null,
      "outputs": []
    },
    {
      "cell_type": "code",
      "source": [
        "data, labels = make_blobs(n_samples=1000, n_features=2, centers=4, cluster_std=1.0, center_box=(-10.0, 10.0), shuffle=True, random_state=42, return_centers=False)"
      ],
      "metadata": {
        "id": "CEzt2tvZSWpn"
      },
      "execution_count": null,
      "outputs": []
    },
    {
      "cell_type": "code",
      "source": [
        "data.shape, labels.shape"
      ],
      "metadata": {
        "colab": {
          "base_uri": "https://localhost:8080/"
        },
        "id": "7V32qZL9Txkm",
        "outputId": "3a8a67dd-34ef-42bf-cd78-fbe6f121c47d"
      },
      "execution_count": null,
      "outputs": [
        {
          "output_type": "execute_result",
          "data": {
            "text/plain": [
              "((1000, 2), (1000,))"
            ]
          },
          "metadata": {},
          "execution_count": 6
        }
      ]
    },
    {
      "cell_type": "code",
      "source": [
        "plt.scatter(data[:,0], data[:,1], c=labels, cmap=my_camp)\n",
        "plt.show()"
      ],
      "metadata": {
        "colab": {
          "base_uri": "https://localhost:8080/",
          "height": 430
        },
        "id": "P_vbXn2vT0hB",
        "outputId": "ca1cb77b-404a-47f6-d3ad-0b4796aac97b"
      },
      "execution_count": null,
      "outputs": [
        {
          "output_type": "display_data",
          "data": {
            "text/plain": [
              "<Figure size 640x480 with 1 Axes>"
            ],
            "image/png": "[encoded data removed]"
          },
          "metadata": {}
        }
      ]
    },
    {
      "cell_type": "code",
      "source": [
        "X_train, X_test, y_train, y_test = map(torch.tensor,(train_test_split(data, labels, random_state=42,stratify=labels)))"
      ],
      "metadata": {
        "id": "0j3fhkxGUSY0"
      },
      "execution_count": null,
      "outputs": []
    },
    {
      "cell_type": "code",
      "source": [
        "X_train.shape, X_test.shape, y_train.shape, y_test.shape"
      ],
      "metadata": {
        "colab": {
          "base_uri": "https://localhost:8080/"
        },
        "id": "0yUHCCUAVJQA",
        "outputId": "9402793b-c508-4dfa-fd3f-35e677952a9e"
      },
      "execution_count": null,
      "outputs": [
        {
          "output_type": "execute_result",
          "data": {
            "text/plain": [
              "(torch.Size([750, 2]),\n",
              " torch.Size([250, 2]),\n",
              " torch.Size([750]),\n",
              " torch.Size([250]))"
            ]
          },
          "metadata": {},
          "execution_count": 9
        }
      ]
    },
    {
      "cell_type": "code",
      "source": [
        "def model(x):\n",
        "  a1 = torch.matmul(x,weights1) + bias1\n",
        "  h1 = torch.sigmoid(a1)\n",
        "  a2 = torch.matmul(h1,weights2) + bias2\n",
        "  h2 = a2.exp()/a2.exp().sum(-1).unsqueeze(-1)\n",
        "  return h2"
      ],
      "metadata": {
        "id": "0_9Bj-ZvVRH-"
      },
      "execution_count": null,
      "outputs": []
    },
    {
      "cell_type": "code",
      "source": [
        "y_hat = torch.tensor([[0.1,0.2,0.3,0.4],[0.8,0.1,0.05,0.05]])\n",
        "y = torch.tensor([2,0])\n",
        "\n",
        "(-y_hat[range(y_hat.shape[0]), y].log()).mean().item() # loss function\n",
        "(torch.argmax(y_hat,dim=1) == y).float().mean().item() # accuracy function"
      ],
      "metadata": {
        "colab": {
          "base_uri": "https://localhost:8080/"
        },
        "id": "y7-I9TfMWlO8",
        "outputId": "ffef91d9-d100-46a9-db05-9be87f7cbf4d"
      },
      "execution_count": null,
      "outputs": [
        {
          "output_type": "execute_result",
          "data": {
            "text/plain": [
              "0.5"
            ]
          },
          "metadata": {},
          "execution_count": 11
        }
      ]
    },
    {
      "cell_type": "code",
      "source": [
        "def loss_fn(y_hat,y):\n",
        "  return (-y_hat[range(y_hat.shape[0]), y].log()).mean()"
      ],
      "metadata": {
        "id": "_tTgZ7ExXSsw"
      },
      "execution_count": null,
      "outputs": []
    },
    {
      "cell_type": "code",
      "source": [
        "def accuracy(y_hat,y):\n",
        "  return (torch.argmax(y_hat,dim=1) == y).float().mean()"
      ],
      "metadata": {
        "id": "nYb7zl3Ibv6v"
      },
      "execution_count": null,
      "outputs": []
    },
    {
      "cell_type": "code",
      "source": [
        "torch.manual_seed(0)\n",
        "weights1 = torch.randn(2, 2) / math.sqrt(2)\n",
        "weights1.requires_grad_()\n",
        "bias1 = torch.zeros(2, requires_grad=True)\n",
        "weights2 = torch.randn(2, 4) / math.sqrt(2)\n",
        "weights2.requires_grad_()\n",
        "bias2 = torch.zeros(4, requires_grad=True)\n",
        "learning_rate = 0.2\n",
        "epochs = 10000\n",
        "X_train = X_train.float()\n",
        "Y_train = y_train.long()\n",
        "loss_arr = []\n",
        "acc_arr = []\n",
        "for epoch in range(epochs):\n",
        " y_hat = model(X_train)\n",
        " loss = loss_fn(y_hat, Y_train)\n",
        " loss.backward()\n",
        " loss_arr.append(loss.item())\n",
        " acc_arr.append(accuracy(y_hat, Y_train))\n",
        " with torch.no_grad():\n",
        "   weights1 -= weights1.grad * learning_rate\n",
        "   bias1 -= bias1.grad * learning_rate\n",
        "   weights2 -= weights2.grad * learning_rate\n",
        "   bias2 -= bias2.grad * learning_rate\n",
        "   weights1.grad.zero_()\n",
        "   bias1.grad.zero_()\n",
        "   weights2.grad.zero_()\n",
        "   bias2.grad.zero_()\n",
        "\n",
        "plt.plot(loss_arr, 'r-')\n",
        "plt.plot(acc_arr, 'b--')\n",
        "plt.show()\n",
        "print('Loss before training', loss_arr[0])\n",
        "print('Loss after training', loss_arr[-1])"
      ],
      "metadata": {
        "id": "0hHkl2vZcAi5",
        "colab": {
          "base_uri": "https://localhost:8080/",
          "height": 465
        },
        "outputId": "3829c55b-c2a7-443c-afd4-637b88a186be"
      },
      "execution_count": null,
      "outputs": [
        {
          "output_type": "display_data",
          "data": {
            "text/plain": [
              "<Figure size 640x480 with 1 Axes>"
            ],
            "image/png": "[encoded data removed]"
          },
          "metadata": {}
        },
        {
          "output_type": "stream",
          "name": "stdout",
          "text": [
            "Loss before training 1.3973805904388428\n",
            "Loss after training 0.7501326203346252\n"
          ]
        }
      ]
    },
    {
      "cell_type": "markdown",
      "source": [
        "Using NN.Functional"
      ],
      "metadata": {
        "id": "NozD-4yHI4rK"
      }
    },
    {
      "cell_type": "code",
      "source": [
        "import torch.nn.functional as F"
      ],
      "metadata": {
        "id": "1F9Ndw4OFhUD"
      },
      "execution_count": null,
      "outputs": []
    },
    {
      "cell_type": "code",
      "source": [
        "torch.manual_seed(0)\n",
        "weights1 = torch.randn(2, 2) / math.sqrt(2)\n",
        "weights1.requires_grad_()\n",
        "bias1 = torch.zeros(2, requires_grad=True)\n",
        "weights2 = torch.randn(2, 4) / math.sqrt(2)\n",
        "weights2.requires_grad_()\n",
        "bias2 = torch.zeros(4, requires_grad=True)\n",
        "learning_rate = 0.2\n",
        "epochs = 10000\n",
        "loss_arr = []\n",
        "acc_arr = []\n",
        "for epoch in range(epochs):\n",
        " y_hat = model(X_train)\n",
        " loss = F.cross_entropy(y_hat, Y_train)\n",
        " loss.backward()\n",
        " loss_arr.append(loss.item())\n",
        " acc_arr.append(accuracy(y_hat, Y_train))\n",
        " with torch.no_grad():\n",
        "   weights1 -= weights1.grad * learning_rate\n",
        "   bias1 -= bias1.grad * learning_rate\n",
        "   weights2 -= weights2.grad * learning_rate\n",
        "   bias2 -= bias2.grad * learning_rate\n",
        "   weights1.grad.zero_()\n",
        "   bias1.grad.zero_()\n",
        "   weights2.grad.zero_()\n",
        "   bias2.grad.zero_()\n",
        "plt.plot(loss_arr, 'r-')\n",
        "plt.plot(acc_arr, 'b-')\n",
        "plt.show()\n",
        "print('Loss before training', loss_arr[0])\n",
        "print('Loss after training', loss_arr[-1])"
      ],
      "metadata": {
        "colab": {
          "base_uri": "https://localhost:8080/",
          "height": 465
        },
        "id": "6NOi4VJnFpLj",
        "outputId": "28144fd5-1bd2-4144-e0fd-a0e43f6a9a97"
      },
      "execution_count": null,
      "outputs": [
        {
          "output_type": "display_data",
          "data": {
            "text/plain": [
              "<Figure size 640x480 with 1 Axes>"
            ],
            "image/png": "[encoded data removed]"
          },
          "metadata": {}
        },
        {
          "output_type": "stream",
          "name": "stdout",
          "text": [
            "Loss before training 1.3973805904388428\n",
            "Loss after training 0.7501326203346252\n"
          ]
        }
      ]
    },
    {
      "cell_type": "markdown",
      "source": [
        "Using NN.Parameter"
      ],
      "metadata": {
        "id": "AbL5VsqZI2GY"
      }
    },
    {
      "cell_type": "code",
      "source": [
        "import torch.nn as nn"
      ],
      "metadata": {
        "id": "LYiM_jnMFwuK"
      },
      "execution_count": null,
      "outputs": []
    },
    {
      "cell_type": "code",
      "source": [
        "class FirstNetwork(nn.Module):\n",
        " def __init__(self):\n",
        "   super().__init__()\n",
        "   torch.manual_seed(0)\n",
        "   self.weights1 = nn.Parameter(torch.randn(2, 2) / math.sqrt(2))\n",
        "   self.bias1 = nn.Parameter(torch.zeros(2))\n",
        "   self.weights2 = nn.Parameter(torch.randn(2, 4) / math.sqrt(2))\n",
        "   self.bias2 = nn.Parameter(torch.zeros(4))\n",
        "\n",
        " def forward(self, X):\n",
        "   a1 = torch.matmul(X, self.weights1) + self.bias1\n",
        "   h1 = a1.sigmoid()\n",
        "   a2 = torch.matmul(h1, self.weights2) + self.bias2\n",
        "   h2 = a2.exp()/a2.exp().sum(-1).unsqueeze(-1)\n",
        "   return h2"
      ],
      "metadata": {
        "id": "PkZ2tf-SF3UX"
      },
      "execution_count": null,
      "outputs": []
    },
    {
      "cell_type": "code",
      "source": [
        "def fit(epochs = 1000, learning_rate = 1):\n",
        "  loss_arr = []\n",
        "  acc_arr = []\n",
        "  for epoch in range(epochs):\n",
        "    y_hat = fn(X_train)\n",
        "    loss = F.cross_entropy(y_hat, Y_train)\n",
        "    loss_arr.append(loss.item())\n",
        "    acc_arr.append(accuracy(y_hat, Y_train))\n",
        "    loss.backward()\n",
        "    with torch.no_grad():\n",
        "      for param in fn.parameters():\n",
        "        param -= learning_rate * param.grad\n",
        "      fn.zero_grad()\n",
        "\n",
        "  plt.plot(loss_arr, 'r-')\n",
        "  plt.plot(acc_arr, 'b-')\n",
        "  plt.show()\n",
        "  print('Loss before training', loss_arr[0])\n",
        "  print('Loss after training', loss_arr[-1])"
      ],
      "metadata": {
        "id": "53TTHNrNF50W"
      },
      "execution_count": null,
      "outputs": []
    },
    {
      "cell_type": "code",
      "source": [
        "fn = FirstNetwork()\n",
        "fit()"
      ],
      "metadata": {
        "colab": {
          "base_uri": "https://localhost:8080/",
          "height": 465
        },
        "id": "eiCAAwXxHEok",
        "outputId": "56058167-e3c1-428f-8834-bb729bdd1363"
      },
      "execution_count": null,
      "outputs": [
        {
          "output_type": "display_data",
          "data": {
            "text/plain": [
              "<Figure size 640x480 with 1 Axes>"
            ],
            "image/png": "[encoded data removed]"
          },
          "metadata": {}
        },
        {
          "output_type": "stream",
          "name": "stdout",
          "text": [
            "Loss before training 1.3973805904388428\n",
            "Loss after training 0.7602363228797913\n"
          ]
        }
      ]
    },
    {
      "cell_type": "markdown",
      "source": [
        "Using NN.Linear and Optim"
      ],
      "metadata": {
        "id": "55bcwiSZIzmy"
      }
    },
    {
      "cell_type": "code",
      "source": [
        "class FirstNetwork_v1(nn.Module):\n",
        "\n",
        "  def __init__(self):\n",
        "    super().__init__()\n",
        "    torch.manual_seed(0)\n",
        "    self.lin1 = nn.Linear(2, 2)\n",
        "    self.lin2 = nn.Linear(2, 4)\n",
        "\n",
        "  def forward(self, X):\n",
        "    a1 = self.lin1(X)\n",
        "    h1 = a1.sigmoid()\n",
        "    a2 = self.lin2(h1)\n",
        "    h2 = a2.exp()/a2.exp().sum(-1).unsqueeze(-1)\n",
        "    return h2"
      ],
      "metadata": {
        "id": "AQTO0JaRHL1X"
      },
      "execution_count": null,
      "outputs": []
    },
    {
      "cell_type": "code",
      "source": [
        "fn = FirstNetwork_v1()\n",
        "fit()"
      ],
      "metadata": {
        "id": "xdi-7wXlHRdU"
      },
      "execution_count": null,
      "outputs": []
    },
    {
      "cell_type": "code",
      "source": [
        "from torch import optim"
      ],
      "metadata": {
        "id": "0GBP8WkIHSVf"
      },
      "execution_count": null,
      "outputs": []
    },
    {
      "cell_type": "code",
      "source": [
        "def fit_v1(epochs = 1000, learning_rate = 1):\n",
        "  loss_arr = []\n",
        "  acc_arr = []\n",
        "  opt = optim.SGD(fn.parameters(), lr=learning_rate)\n",
        "\n",
        "  for epoch in range(epochs):\n",
        "    y_hat = fn(X_train)\n",
        "    loss = F.cross_entropy(y_hat, Y_train)\n",
        "    loss_arr.append(loss.item())\n",
        "    acc_arr.append(accuracy(y_hat, Y_train))\n",
        "    loss.backward()\n",
        "    opt.step()\n",
        "    opt.zero_grad()\n",
        "\n",
        "  plt.plot(loss_arr, 'r-')\n",
        "  plt.plot(acc_arr, 'b-')\n",
        "  plt.show()\n",
        "  print('Loss before training', loss_arr[0])\n",
        "  print('Loss after training', loss_arr[-1])"
      ],
      "metadata": {
        "id": "5M6LE-0sHSks"
      },
      "execution_count": null,
      "outputs": []
    },
    {
      "cell_type": "code",
      "source": [
        "fn = FirstNetwork_v1()\n",
        "fit_v1()"
      ],
      "metadata": {
        "colab": {
          "base_uri": "https://localhost:8080/",
          "height": 465
        },
        "id": "N19xj0CGHSps",
        "outputId": "06fa80bc-8395-48bd-e303-8dd0be6abcd6"
      },
      "execution_count": null,
      "outputs": [
        {
          "output_type": "display_data",
          "data": {
            "text/plain": [
              "<Figure size 640x480 with 1 Axes>"
            ],
            "image/png": "[encoded data removed]"
          },
          "metadata": {}
        },
        {
          "output_type": "stream",
          "name": "stdout",
          "text": [
            "Loss before training 1.421607255935669\n",
            "Loss after training 0.7557789087295532\n"
          ]
        }
      ]
    },
    {
      "cell_type": "markdown",
      "source": [
        "Using NN.Sequential"
      ],
      "metadata": {
        "id": "TQjjFuVhIwmz"
      }
    },
    {
      "cell_type": "code",
      "source": [
        "class FirstNetwork_v2(nn.Module):\n",
        " def __init__(self):\n",
        "  super().__init__()\n",
        "  torch.manual_seed(0)\n",
        "  self.net = nn.Sequential(\n",
        "  nn.Linear(2, 2),\n",
        "  nn.Sigmoid(),\n",
        "  nn.Linear(2, 4),\n",
        "  nn.Softmax()\n",
        " )\n",
        " def forward(self, X):\n",
        "  return self.net(X)"
      ],
      "metadata": {
        "id": "a6NG9ULbHspi"
      },
      "execution_count": null,
      "outputs": []
    },
    {
      "cell_type": "code",
      "source": [
        "fn = FirstNetwork_v2()\n",
        "fit_v1()"
      ],
      "metadata": {
        "colab": {
          "base_uri": "https://localhost:8080/",
          "height": 519
        },
        "id": "6R2LkynyH4oj",
        "outputId": "4d58a35b-3881-49f7-96cd-45178689b6c7"
      },
      "execution_count": null,
      "outputs": [
        {
          "output_type": "stream",
          "name": "stderr",
          "text": [
            "/usr/local/lib/python3.10/dist-packages/torch/nn/modules/module.py:1532: UserWarning: Implicit dimension choice for softmax has been deprecated. Change the call to include dim=X as an argument.\n",
            "  return self._call_impl(*args, **kwargs)\n"
          ]
        },
        {
          "output_type": "display_data",
          "data": {
            "text/plain": [
              "<Figure size 640x480 with 1 Axes>"
            ],
            "image/png": "[encoded data removed]"
          },
          "metadata": {}
        },
        {
          "output_type": "stream",
          "name": "stdout",
          "text": [
            "Loss before training 1.421607255935669\n",
            "Loss after training 0.7557789087295532\n"
          ]
        }
      ]
    },
    {
      "cell_type": "code",
      "source": [
        "def fit_v2(x, y, model, opt, loss_fn, epochs = 1000):\n",
        " for epoch in range(epochs):\n",
        "   loss = loss_fn(model(x), y)\n",
        "   loss.backward()\n",
        "   opt.step()\n",
        "   opt.zero_grad()\n",
        "\n",
        " return loss.item()"
      ],
      "metadata": {
        "id": "Dezx3y4SH8ov"
      },
      "execution_count": null,
      "outputs": []
    },
    {
      "cell_type": "code",
      "source": [
        "fn = FirstNetwork_v2()\n",
        "loss_fn = F.cross_entropy\n",
        "opt = optim.SGD(fn.parameters(), lr=1)\n",
        "fit_v2(X_train, Y_train, fn, opt, loss_fn)"
      ],
      "metadata": {
        "colab": {
          "base_uri": "https://localhost:8080/"
        },
        "id": "mix2Cm1MIBzw",
        "outputId": "e7afb837-d200-4e1a-aef3-02f5db08988a"
      },
      "execution_count": null,
      "outputs": [
        {
          "output_type": "execute_result",
          "data": {
            "text/plain": [
              "0.7557789087295532"
            ]
          },
          "metadata": {},
          "execution_count": 54
        }
      ]
    },
    {
      "cell_type": "markdown",
      "source": [
        "Running it on GPUs"
      ],
      "metadata": {
        "id": "LyEsrxwwIoDM"
      }
    },
    {
      "cell_type": "code",
      "source": [
        "device = torch.device(\"cuda\")\n",
        "X_train=X_train.to(device)\n",
        "Y_train=y_train.to(device)\n",
        "fn = FirstNetwork_v2()\n",
        "fn.to(device)\n",
        "tic = time.time()\n",
        "print('Final loss', fit_v2(X_train, Y_train, fn, opt, loss_fn))\n",
        "toc = time.time()\n",
        "print('Time taken', toc - tic)"
      ],
      "metadata": {
        "colab": {
          "base_uri": "https://localhost:8080/"
        },
        "id": "IGl9jHO3IH88",
        "outputId": "e0b7ebf0-95ed-4f72-f315-e747d9d28132"
      },
      "execution_count": null,
      "outputs": [
        {
          "output_type": "stream",
          "name": "stdout",
          "text": [
            "Final loss 1.4216071367263794\n",
            "Time taken 0.9095468521118164\n"
          ]
        }
      ]
    },
    {
      "cell_type": "code",
      "source": [
        "class FirstNetwork_v3(nn.Module):\n",
        " def __init__(self):\n",
        "   super().__init__()\n",
        "   torch.manual_seed(0)\n",
        "   self.net = nn.Sequential(\n",
        "       nn.Linear(2, 1024*4),\n",
        "       nn.Sigmoid(),\n",
        "       nn.Linear(1024*4, 4),\n",
        "       nn.Softmax()\n",
        "   )\n",
        " def forward(self, X):\n",
        "   return self.net(X)"
      ],
      "metadata": {
        "id": "Xvt_3EIDIR8s"
      },
      "execution_count": null,
      "outputs": []
    },
    {
      "cell_type": "code",
      "source": [
        "device = torch.device(\"cpu\")\n",
        "X_train=X_train.to(device)\n",
        "Y_train=Y_train.to(device)\n",
        "fn = FirstNetwork_v3()\n",
        "fn.to(device)\n",
        "tic = time.time()\n",
        "print('Final loss', fit_v2(X_train, Y_train, fn, opt, loss_fn))\n",
        "toc = time.time()\n",
        "print('Time taken', toc - tic)"
      ],
      "metadata": {
        "colab": {
          "base_uri": "https://localhost:8080/"
        },
        "id": "vdv63tnhIXTV",
        "outputId": "6dd79a21-c1ec-4182-f3b8-61a31eb1c7f4"
      },
      "execution_count": null,
      "outputs": [
        {
          "output_type": "stream",
          "name": "stdout",
          "text": [
            "Final loss 1.3742953538894653\n",
            "Time taken 27.90336012840271\n"
          ]
        }
      ]
    },
    {
      "cell_type": "markdown",
      "source": [
        " Exercises\n",
        " 1. Try out a deeper neural network, eg. 2 hidden layers\n",
        " 2. Try out different parameters in the optimizer (eg. try momentum, nestrov) -> check\n",
        " optim.SGD docs\n",
        " 3. Try out other optimization methods (eg. RMSProp and Adam) which are supported\n",
        " in\n",
        "optim\n",
        " 4. Try out different initialisation methods which are supported in\n",
        "nn.ini"
      ],
      "metadata": {
        "id": "QI0I6zQzIhpO"
      }
    },
    {
      "cell_type": "code",
      "source": [],
      "metadata": {
        "id": "spnJyG1hIcmp"
      },
      "execution_count": null,
      "outputs": []
    }
  ]
}